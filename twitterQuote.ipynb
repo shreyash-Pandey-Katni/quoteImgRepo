{
 "cells": [
  {
   "cell_type": "code",
   "execution_count": 102,
   "metadata": {},
   "outputs": [],
   "source": [
    "from PIL import Image\n",
    "import requests\n",
    "from PIL import ImageFont\n",
    "from PIL import ImageDraw\n",
    "from PIL import ImageStat\n",
    "import os\n",
    "import random\n",
    "import math\n",
    "import time\n",
    "import subprocess"
   ]
  },
  {
   "cell_type": "code",
   "execution_count": 7,
   "metadata": {},
   "outputs": [],
   "source": []
  },
  {
   "cell_type": "code",
   "execution_count": 16,
   "metadata": {},
   "outputs": [],
   "source": []
  },
  {
   "cell_type": "code",
   "execution_count": 39,
   "metadata": {},
   "outputs": [],
   "source": [
    "def recommend_font_size(text):\n",
    "    size = 135\n",
    "    l = len(text)\n",
    "\n",
    "    resize_heuristic = 0.9\n",
    "    resize_actual = 0.985\n",
    "    while l > 1:\n",
    "        l = l * resize_heuristic\n",
    "        size = size * resize_actual\n",
    "\n",
    "    return int(size)"
   ]
  },
  {
   "cell_type": "code",
   "execution_count": 17,
   "metadata": {},
   "outputs": [],
   "source": [
    "def wrap_text(text, w=30):\n",
    "    new_text = \"\"\n",
    "    new_sentence = \"\"\n",
    "    for word in text.split(\" \"):\n",
    "        delim = \" \" if new_sentence != \"\" else \"\"\n",
    "        new_sentence = new_sentence + delim + word\n",
    "        if len(new_sentence) > w:\n",
    "            new_text += \"\\n\" + new_sentence\n",
    "            new_sentence = \"\"\n",
    "    new_text += \"\\n\" + new_sentence\n",
    "    return new_text"
   ]
  },
  {
   "cell_type": "code",
   "execution_count": 24,
   "metadata": {},
   "outputs": [],
   "source": [
    "def select_font():\n",
    "    prefix = \"fonts/\"\n",
    "    options = os.listdir(prefix)\n",
    "    return prefix + random.choice(options)"
   ]
  },
  {
   "cell_type": "code",
   "execution_count": 165,
   "metadata": {},
   "outputs": [],
   "source": [
    "def write_image(text, output_filename, background_img, IMAGE_WIDTH=1920, IMAGE_HEIGHT=1080, FONT='Roboto.ttf', FONT_SIZE=135, iF = ImageFont.truetype(FONT, FONT_SIZE), SPACING=0, FONT_COLOR=(255, 255, 255), BACKGROUND_COLOR=(0, 0, 0)):\n",
    "    # setup\n",
    "    text = wrap_text(text)\n",
    "    img = Image.new(\"RGB\", (IMAGE_WIDTH, IMAGE_HEIGHT), (255, 255, 255))\n",
    "\n",
    "    # background\n",
    "    back = background_img\n",
    "    img_w, img_h = back.size\n",
    "    bg_w, bg_h = img.size\n",
    "    offset = (int((bg_w - img_w) / 3), int((bg_h - img_h) / 3))\n",
    "    img.paste(back, offset)\n",
    "\n",
    "    # text\n",
    "    font = ImageFont.truetype(FONT, FONT_SIZE)\n",
    "    draw = ImageDraw.Draw(img)\n",
    "    img_w, img_h = img.size\n",
    "    x = img_w / 2\n",
    "    y = img_h / 2\n",
    "    textsize = draw.multiline_textsize(text, font=iF, spacing=SPACING)\n",
    "    text_w, text_h = textsize\n",
    "    x -= text_w / 2\n",
    "    y -= text_h / 2\n",
    "    draw.multiline_text(align=\"center\", xy=(x, y), text=text, fill=FONT_COLOR, font=font, spacing=SPACING)\n",
    "    draw = ImageDraw.Draw(img)\n",
    "    img = img.resize((960, 540), Image.ANTIALIAS)\n",
    "    # output\n",
    "    img.save(output_filename)\n",
    "    return output_filename"
   ]
  },
  {
   "cell_type": "code",
   "execution_count": 166,
   "metadata": {},
   "outputs": [],
   "source": [
    "def brightness( im_file ):\n",
    "   im = im_file\n",
    "   stat = ImageStat.Stat(im)\n",
    "   r,g,b = stat.rms\n",
    "   return math.sqrt(0.241*(r**2) + 0.691*(g**2) + 0.068*(b**2))"
   ]
  },
  {
   "cell_type": "code",
   "execution_count": 167,
   "metadata": {},
   "outputs": [],
   "source": [
    "def finalImageProcess():\n",
    "    im = Image.open(requests.get('https://picsum.photos/1920/1080/?blur=2', stream=True).raw)\n",
    "    quote = requests.get(\"https://programming-quotes-api.herokuapp.com/Quotes/random\").json()['en']\n",
    "    time.sleep(1)\n",
    "    bright = brightness(im)\n",
    "    print(bright)\n",
    "    FONT = select_font()\n",
    "    FONT_SIZE = recommend_font_size(quote)\n",
    "    IF = ImageFont.truetype(FONT, FONT_SIZE)\n",
    "    COLOR = (255, 255, 255)\n",
    "    if bright > 150:\n",
    "        COLOR = (0, 0, 0)\n",
    "    SPACING = 3\n",
    "    print(write_image(quote, \"img/quote.jpeg\", im, IMAGE_WIDTH=1920, IMAGE_HEIGHT=1080, FONT=FONT, FONT_SIZE=FONT_SIZE, iF=IF, SPACING=SPACING, FONT_COLOR=COLOR, BACKGROUND_COLOR=(0, 0, 0)))\n",
    "    time.sleep(5)\n",
    "    subprocess.call(\"./push.sh\", shell=True)"
   ]
  },
  {
   "cell_type": "code",
   "execution_count": 168,
   "metadata": {},
   "outputs": [
    {
     "name": "stdout",
     "output_type": "stream",
     "text": [
      "129.64911522566865\n",
      "img/quote.jpeg\n"
     ]
    }
   ],
   "source": [
    "finalImageProcess()"
   ]
  },
  {
   "cell_type": "code",
   "execution_count": 92,
   "metadata": {},
   "outputs": [],
   "source": [
    "BASE_URL = \"https://graph.facebook.com/v13.0/app/uploads?access_token=\" + ACCESS_TOKEN + \"&file_length=\"+str(os.path.getsize(\"quote.jpeg\"))+\"&file_type=image/jpeg\""
   ]
  },
  {
   "cell_type": "code",
   "execution_count": 93,
   "metadata": {},
   "outputs": [],
   "source": [
    "binary_data = open(\"quote.jpeg\", \"rb\").read()"
   ]
  },
  {
   "cell_type": "code",
   "execution_count": 94,
   "metadata": {},
   "outputs": [],
   "source": [
    "id = requests.post(BASE_URL, data=binary_data).json()['id']"
   ]
  },
  {
   "cell_type": "code",
   "execution_count": 95,
   "metadata": {},
   "outputs": [
    {
     "data": {
      "text/plain": [
       "'upload:MTphdHRhY2htZW50OmEwY2FkODBkLWVhNzItNDJjMi04YzQ0LTYyYWU2N2MyNjQ2Mz9maWxlX2xlbmd0aD0xNTM3MTkmZmlsZV90eXBlPWltYWdlJTJGanBlZw==?sig=ARYQM8EjWFi69BeiU-E'"
      ]
     },
     "execution_count": 95,
     "metadata": {},
     "output_type": "execute_result"
    }
   ],
   "source": [
    "id"
   ]
  },
  {
   "cell_type": "code",
   "execution_count": 96,
   "metadata": {},
   "outputs": [],
   "source": [
    "file_handle = requests.post(\"https://graph.facebook.com/v13.0/\" + id , headers = {'Authorization': 'OAuth ' + ACCESS_TOKEN, 'file_offset': '0', 'Content-Type': 'multipart/form-data'}, data=binary_data).json()['h']"
   ]
  },
  {
   "cell_type": "code",
   "execution_count": 97,
   "metadata": {},
   "outputs": [
    {
     "data": {
      "text/plain": [
       "'4::aW1hZ2UvanBlZw==:ARaEgBWExn9tPo46Jgbb4Df-S2P3aT6UX4BFu0xlDeNk7zmwJKepr8XMQhl579IeONyemQz4k7sYmpsfCIqRyJ7cxdjXlxqcVK8Zkt_CFwV4LA:e:1651934544:1105434846699344:107965891688763:ARa0THy0d9tbyAV_y6E'"
      ]
     },
     "execution_count": 97,
     "metadata": {},
     "output_type": "execute_result"
    }
   ],
   "source": [
    "file_handle"
   ]
  },
  {
   "cell_type": "code",
   "execution_count": 98,
   "metadata": {},
   "outputs": [],
   "source": [
    "UPLOAD_STATUS = requests.get(\"https://graph.facebook.com/v13.0/\" + id, headers={'Authorization': 'OAuth '+ ACCESS_TOKEN}).json()"
   ]
  },
  {
   "cell_type": "code",
   "execution_count": 100,
   "metadata": {},
   "outputs": [
    {
     "data": {
      "text/plain": [
       "153719"
      ]
     },
     "execution_count": 100,
     "metadata": {},
     "output_type": "execute_result"
    }
   ],
   "source": [
    "os.path.getsize(\"quote.jpeg\")"
   ]
  },
  {
   "cell_type": "code",
   "execution_count": null,
   "metadata": {},
   "outputs": [],
   "source": []
  }
 ],
 "metadata": {
  "interpreter": {
   "hash": "916dbcbb3f70747c44a77c7bcd40155683ae19c65e1c03b4aa3499c5328201f1"
  },
  "kernelspec": {
   "display_name": "Python 3.8.10 64-bit",
   "language": "python",
   "name": "python3"
  },
  "language_info": {
   "codemirror_mode": {
    "name": "ipython",
    "version": 3
   },
   "file_extension": ".py",
   "mimetype": "text/x-python",
   "name": "python",
   "nbconvert_exporter": "python",
   "pygments_lexer": "ipython3",
   "version": "3.10.6"
  },
  "orig_nbformat": 4
 },
 "nbformat": 4,
 "nbformat_minor": 2
}
